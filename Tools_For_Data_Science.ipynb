{
  "metadata": {
    "kernelspec": {
      "name": "python",
      "display_name": "Python (Pyodide)",
      "language": "python"
    },
    "language_info": {
      "codemirror_mode": {
        "name": "python",
        "version": 3
      },
      "file_extension": ".py",
      "mimetype": "text/x-python",
      "name": "python",
      "nbconvert_exporter": "python",
      "pygments_lexer": "ipython3",
      "version": "3.8"
    }
  },
  "nbformat_minor": 4,
  "nbformat": 4,
  "cells": [
    {
      "cell_type": "markdown",
      "source": "# Tools for Data Science\n",
      "metadata": {}
    },
    {
      "cell_type": "markdown",
      "source": "### A summary of the tools for data science.\n\n## Objectives:\n- Practice using lists and tables in markdown\n- Be comfortable working with arithmetic in python\n",
      "metadata": {}
    },
    {
      "cell_type": "markdown",
      "source": "## Data Science Languages\n1. Python\n2. R\n3. SQL",
      "metadata": {}
    },
    {
      "cell_type": "markdown",
      "source": "## Data Science Libraries\n1. Pandas\n2. Numpy\n3. Plotly\n",
      "metadata": {}
    },
    {
      "cell_type": "markdown",
      "source": "| Tools    | Type |\n| -------- | ------- |\n| JupyterLite  | Web App    |\n| Github | Version Control    |\n| RStudio    | IDE    |",
      "metadata": {}
    },
    {
      "cell_type": "code",
      "source": "# Here are some arithmetic expression examples.\nx = 1+1\ny = 1-1\n\nprint(\"x =\" , x)\nprint(\"y =\", y)",
      "metadata": {
        "trusted": true
      },
      "outputs": [
        {
          "name": "stdout",
          "text": "x = 2\ny = 0\n",
          "output_type": "stream"
        }
      ],
      "execution_count": 12
    },
    {
      "cell_type": "code",
      "source": "3*3+5",
      "metadata": {
        "trusted": true
      },
      "outputs": [
        {
          "execution_count": 13,
          "output_type": "execute_result",
          "data": {
            "text/plain": "14"
          },
          "metadata": {}
        }
      ],
      "execution_count": 13
    },
    {
      "cell_type": "code",
      "source": "# Convert x minutes to y hours, with z remainder minutes\nx = 89\ny = x//60\nz = x%60\n\nprint(x, \"minutes is equivalent to\", y,\"hours and\",z, \"minutes\")",
      "metadata": {
        "trusted": true
      },
      "outputs": [
        {
          "name": "stdout",
          "text": "89 minutes is equivalent to 1 hours and 29 minutes\n",
          "output_type": "stream"
        }
      ],
      "execution_count": 14
    },
    {
      "cell_type": "markdown",
      "source": "### Author: Jiali",
      "metadata": {}
    }
  ]
}